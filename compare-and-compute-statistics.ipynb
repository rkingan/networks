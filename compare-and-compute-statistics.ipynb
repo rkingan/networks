{
 "cells": [
  {
   "cell_type": "markdown",
   "metadata": {},
   "source": [
    "## *C elegans* basic info\n",
    "\n",
    "Verify the number of neurons and connections.\n",
    "\n",
    "Neuron connection data is from [here](http://wormweb.org/data/NeuronConnect.txt).\n",
    "\n",
    "Neuron name/group/type data is from [here](http://wormweb.org/data/name_neurons.txt).\n",
    "\n",
    "\"Old\" data is from [here](https://github.com/openworm/CElegansNeuroML/blob/master/CElegansNeuronTables.xls).\n",
    "\n",
    "Other links:\n",
    "\n",
    "* [Visualization page](http://wormweb.org/neuralnet)\n",
    "* [Details page](http://wormweb.org/details.html)\n",
    "* [Basic information](http://nikhil.superfacts.org/archives/2009/04/the_neural_netw.html)\n",
    "* [More details on neurons, including explanation of CANL, CANR and VC6](https://wormatlas.org/neuronalwiring.html#NeuronalconnectivityII)"
   ]
  },
  {
   "cell_type": "code",
   "execution_count": 1,
   "metadata": {},
   "outputs": [],
   "source": [
    "import pandas as pd"
   ]
  },
  {
   "cell_type": "markdown",
   "metadata": {},
   "source": [
    "### Read `name_neurons.txt` with neuron names, groups and types"
   ]
  },
  {
   "cell_type": "code",
   "execution_count": 2,
   "metadata": {},
   "outputs": [],
   "source": [
    "with open(\"name_neurons.txt\", encoding=\"utf-8\") as f:\n",
    "    nn_text = [s.strip() for s in f.readlines()]"
   ]
  },
  {
   "cell_type": "code",
   "execution_count": 3,
   "metadata": {},
   "outputs": [
    {
     "data": {
      "text/html": [
       "<div>\n",
       "<style scoped>\n",
       "    .dataframe tbody tr th:only-of-type {\n",
       "        vertical-align: middle;\n",
       "    }\n",
       "\n",
       "    .dataframe tbody tr th {\n",
       "        vertical-align: top;\n",
       "    }\n",
       "\n",
       "    .dataframe thead th {\n",
       "        text-align: right;\n",
       "    }\n",
       "</style>\n",
       "<table border=\"1\" class=\"dataframe\">\n",
       "  <thead>\n",
       "    <tr style=\"text-align: right;\">\n",
       "      <th></th>\n",
       "      <th>name</th>\n",
       "      <th>group</th>\n",
       "      <th>type</th>\n",
       "    </tr>\n",
       "  </thead>\n",
       "  <tbody>\n",
       "    <tr>\n",
       "      <th>0</th>\n",
       "      <td>ADAL</td>\n",
       "      <td>ADA</td>\n",
       "      <td>in</td>\n",
       "    </tr>\n",
       "    <tr>\n",
       "      <th>1</th>\n",
       "      <td>ADAR</td>\n",
       "      <td>ADA</td>\n",
       "      <td>in</td>\n",
       "    </tr>\n",
       "    <tr>\n",
       "      <th>2</th>\n",
       "      <td>ADEL</td>\n",
       "      <td>ADE</td>\n",
       "      <td>se</td>\n",
       "    </tr>\n",
       "    <tr>\n",
       "      <th>3</th>\n",
       "      <td>ADER</td>\n",
       "      <td>ADE</td>\n",
       "      <td>se</td>\n",
       "    </tr>\n",
       "    <tr>\n",
       "      <th>4</th>\n",
       "      <td>ADFL</td>\n",
       "      <td>ADF</td>\n",
       "      <td>se</td>\n",
       "    </tr>\n",
       "  </tbody>\n",
       "</table>\n",
       "</div>"
      ],
      "text/plain": [
       "   name group type\n",
       "0  ADAL   ADA   in\n",
       "1  ADAR   ADA   in\n",
       "2  ADEL   ADE   se\n",
       "3  ADER   ADE   se\n",
       "4  ADFL   ADF   se"
      ]
     },
     "execution_count": 3,
     "metadata": {},
     "output_type": "execute_result"
    }
   ],
   "source": [
    "nn_recs = [s.split() for s in nn_text if not(s.startswith(\"#\"))]\n",
    "df_nn = pd.DataFrame({\n",
    "    \"name\": [nr[0] for nr in nn_recs], \n",
    "    \"group\": [nr[1] for nr in nn_recs], \n",
    "    \"type\": [nr[2] for nr in nn_recs]\n",
    "})\n",
    "df_nn.head()"
   ]
  },
  {
   "cell_type": "code",
   "execution_count": 4,
   "metadata": {},
   "outputs": [],
   "source": [
    "df_nn.to_csv(\"name_neurons.csv\", encoding=\"utf-8\", index=False)"
   ]
  },
  {
   "cell_type": "markdown",
   "metadata": {},
   "source": [
    "### Read `NeuronConnect.txt` with connections"
   ]
  },
  {
   "cell_type": "code",
   "execution_count": 5,
   "metadata": {},
   "outputs": [],
   "source": [
    "with open(\"NeuronConnect.txt\", encoding=\"utf-8\") as f:\n",
    "    nc_text = [s.strip() for s in f.readlines()]"
   ]
  },
  {
   "cell_type": "code",
   "execution_count": 6,
   "metadata": {},
   "outputs": [
    {
     "data": {
      "text/html": [
       "<div>\n",
       "<style scoped>\n",
       "    .dataframe tbody tr th:only-of-type {\n",
       "        vertical-align: middle;\n",
       "    }\n",
       "\n",
       "    .dataframe tbody tr th {\n",
       "        vertical-align: top;\n",
       "    }\n",
       "\n",
       "    .dataframe thead th {\n",
       "        text-align: right;\n",
       "    }\n",
       "</style>\n",
       "<table border=\"1\" class=\"dataframe\">\n",
       "  <thead>\n",
       "    <tr style=\"text-align: right;\">\n",
       "      <th></th>\n",
       "      <th>neuron_1</th>\n",
       "      <th>neuron_2</th>\n",
       "      <th>type</th>\n",
       "      <th>nbr</th>\n",
       "    </tr>\n",
       "  </thead>\n",
       "  <tbody>\n",
       "    <tr>\n",
       "      <th>0</th>\n",
       "      <td>ADAR</td>\n",
       "      <td>ADAL</td>\n",
       "      <td>EJ</td>\n",
       "      <td>1</td>\n",
       "    </tr>\n",
       "    <tr>\n",
       "      <th>1</th>\n",
       "      <td>ADFL</td>\n",
       "      <td>ADAL</td>\n",
       "      <td>EJ</td>\n",
       "      <td>1</td>\n",
       "    </tr>\n",
       "    <tr>\n",
       "      <th>2</th>\n",
       "      <td>ASHL</td>\n",
       "      <td>ADAL</td>\n",
       "      <td>EJ</td>\n",
       "      <td>1</td>\n",
       "    </tr>\n",
       "    <tr>\n",
       "      <th>3</th>\n",
       "      <td>AVDR</td>\n",
       "      <td>ADAL</td>\n",
       "      <td>EJ</td>\n",
       "      <td>2</td>\n",
       "    </tr>\n",
       "    <tr>\n",
       "      <th>4</th>\n",
       "      <td>PVQL</td>\n",
       "      <td>ADAL</td>\n",
       "      <td>EJ</td>\n",
       "      <td>1</td>\n",
       "    </tr>\n",
       "  </tbody>\n",
       "</table>\n",
       "</div>"
      ],
      "text/plain": [
       "  neuron_1 neuron_2 type  nbr\n",
       "0     ADAR     ADAL   EJ    1\n",
       "1     ADFL     ADAL   EJ    1\n",
       "2     ASHL     ADAL   EJ    1\n",
       "3     AVDR     ADAL   EJ    2\n",
       "4     PVQL     ADAL   EJ    1"
      ]
     },
     "execution_count": 6,
     "metadata": {},
     "output_type": "execute_result"
    }
   ],
   "source": [
    "nc_recs = [s.split() for s in nc_text if not(s.startswith(\"#\"))]\n",
    "df_nc = pd.DataFrame({\n",
    "    \"neuron_1\": [nr[0] for nr in nc_recs],\n",
    "    \"neuron_2\": [nr[1] for nr in nc_recs],\n",
    "    \"type\": [nr[2] for nr in nc_recs],\n",
    "    \"nbr\": [int(nr[3]) for nr in nc_recs]\n",
    "})\n",
    "df_nc.head()"
   ]
  },
  {
   "cell_type": "code",
   "execution_count": 7,
   "metadata": {},
   "outputs": [],
   "source": [
    "df_nc.to_csv(\"NeuronConnect.csv\", encoding=\"utf-8\", index=False)"
   ]
  },
  {
   "cell_type": "markdown",
   "metadata": {},
   "source": [
    "### Read `synapse_AF.txt` with pharnyx network connections"
   ]
  },
  {
   "cell_type": "code",
   "execution_count": 8,
   "metadata": {},
   "outputs": [],
   "source": [
    "with open(\"synapse_AF.txt\", encoding=\"utf-8\") as f:\n",
    "    pn_text = [s.strip() for s in f.readlines()]"
   ]
  },
  {
   "cell_type": "code",
   "execution_count": 9,
   "metadata": {},
   "outputs": [
    {
     "data": {
      "text/html": [
       "<div>\n",
       "<style scoped>\n",
       "    .dataframe tbody tr th:only-of-type {\n",
       "        vertical-align: middle;\n",
       "    }\n",
       "\n",
       "    .dataframe tbody tr th {\n",
       "        vertical-align: top;\n",
       "    }\n",
       "\n",
       "    .dataframe thead th {\n",
       "        text-align: right;\n",
       "    }\n",
       "</style>\n",
       "<table border=\"1\" class=\"dataframe\">\n",
       "  <thead>\n",
       "    <tr style=\"text-align: right;\">\n",
       "      <th></th>\n",
       "      <th>neuron_1</th>\n",
       "      <th>type_1</th>\n",
       "      <th>nbr_1</th>\n",
       "      <th>nbr_2</th>\n",
       "      <th>type_2</th>\n",
       "      <th>neuron_2</th>\n",
       "      <th>v</th>\n",
       "      <th>src</th>\n",
       "    </tr>\n",
       "  </thead>\n",
       "  <tbody>\n",
       "    <tr>\n",
       "      <th>0</th>\n",
       "      <td>I1L</td>\n",
       "      <td>A</td>\n",
       "      <td>1</td>\n",
       "      <td>1</td>\n",
       "      <td>G</td>\n",
       "      <td>RIP</td>\n",
       "      <td>-</td>\n",
       "      <td>-</td>\n",
       "    </tr>\n",
       "    <tr>\n",
       "      <th>1</th>\n",
       "      <td>I1L</td>\n",
       "      <td>B</td>\n",
       "      <td>2</td>\n",
       "      <td>2</td>\n",
       "      <td>S</td>\n",
       "      <td>M2</td>\n",
       "      <td>-</td>\n",
       "      <td>-</td>\n",
       "    </tr>\n",
       "    <tr>\n",
       "      <th>2</th>\n",
       "      <td>I1L</td>\n",
       "      <td>B</td>\n",
       "      <td>2</td>\n",
       "      <td>2</td>\n",
       "      <td>S</td>\n",
       "      <td>M3</td>\n",
       "      <td>-</td>\n",
       "      <td>-</td>\n",
       "    </tr>\n",
       "    <tr>\n",
       "      <th>3</th>\n",
       "      <td>I1L</td>\n",
       "      <td>B</td>\n",
       "      <td>3</td>\n",
       "      <td>3</td>\n",
       "      <td>S</td>\n",
       "      <td>MC</td>\n",
       "      <td>-</td>\n",
       "      <td>-</td>\n",
       "    </tr>\n",
       "    <tr>\n",
       "      <th>4</th>\n",
       "      <td>I1L</td>\n",
       "      <td>B</td>\n",
       "      <td>4</td>\n",
       "      <td>4</td>\n",
       "      <td>S</td>\n",
       "      <td>I5</td>\n",
       "      <td>v</td>\n",
       "      <td>-</td>\n",
       "    </tr>\n",
       "  </tbody>\n",
       "</table>\n",
       "</div>"
      ],
      "text/plain": [
       "  neuron_1 type_1  nbr_1  nbr_2 type_2 neuron_2  v src\n",
       "0      I1L      A      1      1      G      RIP  -   -\n",
       "1      I1L      B      2      2      S       M2  -   -\n",
       "2      I1L      B      2      2      S       M3  -   -\n",
       "3      I1L      B      3      3      S       MC  -   -\n",
       "4      I1L      B      4      4      S       I5  v   -"
      ]
     },
     "execution_count": 9,
     "metadata": {},
     "output_type": "execute_result"
    }
   ],
   "source": [
    "pn_recs = [s.split() for s in pn_text if not(s.startswith(\"#\"))]\n",
    "df_pn = pd.DataFrame({\n",
    "    \"neuron_1\": [pn[0] for pn in pn_recs],\n",
    "    \"type_1\": [pn[1] for pn in pn_recs],\n",
    "    \"nbr_1\": [int(pn[2]) for pn in pn_recs],\n",
    "    \"nbr_2\": [int(pn[3]) for pn in pn_recs],\n",
    "    \"type_2\": [pn[4] for pn in pn_recs],\n",
    "    \"neuron_2\": [pn[5] for pn in pn_recs],\n",
    "    \"v\": [pn[6] for pn in pn_recs],\n",
    "    \"src\": [pn[7] for pn in pn_recs]\n",
    "})\n",
    "df_pn.head()"
   ]
  },
  {
   "cell_type": "markdown",
   "metadata": {},
   "source": [
    "### Which name_neurons values are actually neurons?\n",
    "\n",
    "```\n",
    "se = sensory neuron\n",
    "in = interneuron\n",
    "mo = motorneuron\n",
    "mu = muscle\n",
    "bm = basement membrane\n",
    "gln = gland cell\n",
    "mc = marginal cell\n",
    "```"
   ]
  },
  {
   "cell_type": "code",
   "execution_count": 10,
   "metadata": {},
   "outputs": [
    {
     "data": {
      "text/plain": [
       "mo       92\n",
       "in       90\n",
       "se       71\n",
       "mo/in    25\n",
       "mu        8\n",
       "in/mo     7\n",
       "se/mo     6\n",
       "mo/se     4\n",
       "in/se     4\n",
       "se/in     3\n",
       "gln       2\n",
       "mc        2\n",
       "bm        1\n",
       "Name: type, dtype: int64"
      ]
     },
     "execution_count": 10,
     "metadata": {},
     "output_type": "execute_result"
    }
   ],
   "source": [
    "df_nn[\"type\"].value_counts()"
   ]
  },
  {
   "cell_type": "code",
   "execution_count": 11,
   "metadata": {},
   "outputs": [
    {
     "data": {
      "text/plain": [
       "(302, 3)"
      ]
     },
     "execution_count": 11,
     "metadata": {},
     "output_type": "execute_result"
    }
   ],
   "source": [
    "df_nn_neurons = df_nn[df_nn[\"type\"].isin([\"mo\", \"in\", \"se\", \"mo/in\", \"in/mo\", \"se/mo\", \"mo/se\", \"in/se\", \"se/in\"])]\n",
    "neuron_names = set(df_nn_neurons[\"name\"])\n",
    "df_nn_neurons.shape"
   ]
  },
  {
   "cell_type": "markdown",
   "metadata": {},
   "source": [
    "**Conclusion:** There are 302 values in the neuron name list that correspond to actual neurons, just as expected."
   ]
  },
  {
   "cell_type": "markdown",
   "metadata": {},
   "source": [
    "### Which name_neurons values do not show up in any connections?"
   ]
  },
  {
   "cell_type": "code",
   "execution_count": 12,
   "metadata": {},
   "outputs": [
    {
     "name": "stdout",
     "output_type": "stream",
     "text": [
      "len(nc_names) = 283\n"
     ]
    }
   ],
   "source": [
    "nc_names = set(df_nc[\"neuron_1\"]) | set(df_nc[\"neuron_2\"])\n",
    "print(\"len(nc_names) =\", len(nc_names))"
   ]
  },
  {
   "cell_type": "code",
   "execution_count": 13,
   "metadata": {},
   "outputs": [
    {
     "data": {
      "text/html": [
       "<div>\n",
       "<style scoped>\n",
       "    .dataframe tbody tr th:only-of-type {\n",
       "        vertical-align: middle;\n",
       "    }\n",
       "\n",
       "    .dataframe tbody tr th {\n",
       "        vertical-align: top;\n",
       "    }\n",
       "\n",
       "    .dataframe thead th {\n",
       "        text-align: right;\n",
       "    }\n",
       "</style>\n",
       "<table border=\"1\" class=\"dataframe\">\n",
       "  <thead>\n",
       "    <tr style=\"text-align: right;\">\n",
       "      <th></th>\n",
       "      <th>name</th>\n",
       "      <th>group</th>\n",
       "      <th>type</th>\n",
       "    </tr>\n",
       "  </thead>\n",
       "  <tbody>\n",
       "    <tr>\n",
       "      <th>82</th>\n",
       "      <td>CANL</td>\n",
       "      <td>CAN</td>\n",
       "      <td>in</td>\n",
       "    </tr>\n",
       "    <tr>\n",
       "      <th>83</th>\n",
       "      <td>CANR</td>\n",
       "      <td>CAN</td>\n",
       "      <td>in</td>\n",
       "    </tr>\n",
       "    <tr>\n",
       "      <th>119</th>\n",
       "      <td>I2L</td>\n",
       "      <td>I2</td>\n",
       "      <td>in</td>\n",
       "    </tr>\n",
       "    <tr>\n",
       "      <th>120</th>\n",
       "      <td>I2R</td>\n",
       "      <td>I2</td>\n",
       "      <td>in</td>\n",
       "    </tr>\n",
       "    <tr>\n",
       "      <th>121</th>\n",
       "      <td>I3</td>\n",
       "      <td>I3</td>\n",
       "      <td>in</td>\n",
       "    </tr>\n",
       "    <tr>\n",
       "      <th>122</th>\n",
       "      <td>I4</td>\n",
       "      <td>I4</td>\n",
       "      <td>in</td>\n",
       "    </tr>\n",
       "    <tr>\n",
       "      <th>123</th>\n",
       "      <td>I5</td>\n",
       "      <td>I5</td>\n",
       "      <td>in</td>\n",
       "    </tr>\n",
       "    <tr>\n",
       "      <th>124</th>\n",
       "      <td>I6</td>\n",
       "      <td>I6</td>\n",
       "      <td>in</td>\n",
       "    </tr>\n",
       "    <tr>\n",
       "      <th>139</th>\n",
       "      <td>M1</td>\n",
       "      <td>M1</td>\n",
       "      <td>mo</td>\n",
       "    </tr>\n",
       "    <tr>\n",
       "      <th>140</th>\n",
       "      <td>M2L</td>\n",
       "      <td>M2</td>\n",
       "      <td>mo</td>\n",
       "    </tr>\n",
       "    <tr>\n",
       "      <th>141</th>\n",
       "      <td>M2R</td>\n",
       "      <td>M2</td>\n",
       "      <td>mo</td>\n",
       "    </tr>\n",
       "    <tr>\n",
       "      <th>142</th>\n",
       "      <td>M3L</td>\n",
       "      <td>M3</td>\n",
       "      <td>mo/in</td>\n",
       "    </tr>\n",
       "    <tr>\n",
       "      <th>143</th>\n",
       "      <td>M3R</td>\n",
       "      <td>M3</td>\n",
       "      <td>mo/in</td>\n",
       "    </tr>\n",
       "    <tr>\n",
       "      <th>144</th>\n",
       "      <td>M4</td>\n",
       "      <td>M4</td>\n",
       "      <td>mo</td>\n",
       "    </tr>\n",
       "    <tr>\n",
       "      <th>145</th>\n",
       "      <td>M5</td>\n",
       "      <td>M5</td>\n",
       "      <td>mo</td>\n",
       "    </tr>\n",
       "    <tr>\n",
       "      <th>146</th>\n",
       "      <td>MCL</td>\n",
       "      <td>MC</td>\n",
       "      <td>in</td>\n",
       "    </tr>\n",
       "    <tr>\n",
       "      <th>147</th>\n",
       "      <td>MCR</td>\n",
       "      <td>MC</td>\n",
       "      <td>in</td>\n",
       "    </tr>\n",
       "    <tr>\n",
       "      <th>148</th>\n",
       "      <td>MI</td>\n",
       "      <td>MI</td>\n",
       "      <td>mo/in</td>\n",
       "    </tr>\n",
       "    <tr>\n",
       "      <th>149</th>\n",
       "      <td>NSML</td>\n",
       "      <td>NSM</td>\n",
       "      <td>mo</td>\n",
       "    </tr>\n",
       "    <tr>\n",
       "      <th>150</th>\n",
       "      <td>NSMR</td>\n",
       "      <td>NSM</td>\n",
       "      <td>mo</td>\n",
       "    </tr>\n",
       "  </tbody>\n",
       "</table>\n",
       "</div>"
      ],
      "text/plain": [
       "     name group   type\n",
       "82   CANL   CAN     in\n",
       "83   CANR   CAN     in\n",
       "119   I2L    I2     in\n",
       "120   I2R    I2     in\n",
       "121    I3    I3     in\n",
       "122    I4    I4     in\n",
       "123    I5    I5     in\n",
       "124    I6    I6     in\n",
       "139    M1    M1     mo\n",
       "140   M2L    M2     mo\n",
       "141   M2R    M2     mo\n",
       "142   M3L    M3  mo/in\n",
       "143   M3R    M3  mo/in\n",
       "144    M4    M4     mo\n",
       "145    M5    M5     mo\n",
       "146   MCL    MC     in\n",
       "147   MCR    MC     in\n",
       "148    MI    MI  mo/in\n",
       "149  NSML   NSM     mo\n",
       "150  NSMR   NSM     mo"
      ]
     },
     "execution_count": 13,
     "metadata": {},
     "output_type": "execute_result"
    }
   ],
   "source": [
    "df_nn_neurons[(~df_nn_neurons[\"name\"].isin(nc_names)) & (~df_nn_neurons[\"group\"].isin(nc_names))].sort_values(by=[\"name\"])"
   ]
  },
  {
   "cell_type": "code",
   "execution_count": 14,
   "metadata": {},
   "outputs": [
    {
     "data": {
      "text/plain": [
       "{'NMJ'}"
      ]
     },
     "execution_count": 14,
     "metadata": {},
     "output_type": "execute_result"
    }
   ],
   "source": [
    "nc_names - set(df_nn_neurons[\"name\"])"
   ]
  },
  {
   "cell_type": "markdown",
   "metadata": {},
   "source": [
    "There are 20 neurons that do not have any connections listed. There is one name that occurs in the connection data but not the neuron list: \"NMJ\". According to [this source](https://wormatlas.org/neuronalwiring.html#NeuronalconnectivityII) these are \"neuromuscular junctions\", so should be discounted. All of the connections listing \"NMJ\" as `neuron_1` or `neuron_2` are of type \"NMJ\". \n",
    "\n",
    "To be safe, let's verify that the only connections with `neuron_1` or `neuron_2` values of \"NMJ\" are also of type \"NMJ\":"
   ]
  },
  {
   "cell_type": "code",
   "execution_count": 15,
   "metadata": {},
   "outputs": [
    {
     "data": {
      "text/plain": [
       "(0, 4)"
      ]
     },
     "execution_count": 15,
     "metadata": {},
     "output_type": "execute_result"
    }
   ],
   "source": [
    "df_nc[~(df_nc[\"type\"] == \"NMJ\") & ((df_nc[\"neuron_1\"] == \"NMJ\") | (df_nc[\"neuron_2\"] == \"NMJ\"))].shape"
   ]
  },
  {
   "cell_type": "markdown",
   "metadata": {},
   "source": [
    "### Do all pharnyx neurons occur in the neuron name list?"
   ]
  },
  {
   "cell_type": "code",
   "execution_count": 16,
   "metadata": {},
   "outputs": [
    {
     "data": {
      "text/html": [
       "<div>\n",
       "<style scoped>\n",
       "    .dataframe tbody tr th:only-of-type {\n",
       "        vertical-align: middle;\n",
       "    }\n",
       "\n",
       "    .dataframe tbody tr th {\n",
       "        vertical-align: top;\n",
       "    }\n",
       "\n",
       "    .dataframe thead th {\n",
       "        text-align: right;\n",
       "    }\n",
       "</style>\n",
       "<table border=\"1\" class=\"dataframe\">\n",
       "  <thead>\n",
       "    <tr style=\"text-align: right;\">\n",
       "      <th></th>\n",
       "      <th>neuron_1</th>\n",
       "      <th>type_1</th>\n",
       "      <th>nbr_1</th>\n",
       "      <th>nbr_2</th>\n",
       "      <th>type_2</th>\n",
       "      <th>neuron_2</th>\n",
       "      <th>v</th>\n",
       "      <th>src</th>\n",
       "    </tr>\n",
       "  </thead>\n",
       "  <tbody>\n",
       "    <tr>\n",
       "      <th>70</th>\n",
       "      <td>I5</td>\n",
       "      <td>C</td>\n",
       "      <td>9</td>\n",
       "      <td>11</td>\n",
       "      <td>S</td>\n",
       "      <td>G1</td>\n",
       "      <td>-</td>\n",
       "      <td>-</td>\n",
       "    </tr>\n",
       "    <tr>\n",
       "      <th>71</th>\n",
       "      <td>I5</td>\n",
       "      <td>C</td>\n",
       "      <td>10</td>\n",
       "      <td>12</td>\n",
       "      <td>M</td>\n",
       "      <td>PM5</td>\n",
       "      <td>-</td>\n",
       "      <td>-</td>\n",
       "    </tr>\n",
       "    <tr>\n",
       "      <th>81</th>\n",
       "      <td>I5</td>\n",
       "      <td>H</td>\n",
       "      <td>18</td>\n",
       "      <td>21</td>\n",
       "      <td>M</td>\n",
       "      <td>PM5</td>\n",
       "      <td>-</td>\n",
       "      <td>-</td>\n",
       "    </tr>\n",
       "    <tr>\n",
       "      <th>82</th>\n",
       "      <td>I5</td>\n",
       "      <td>H</td>\n",
       "      <td>18</td>\n",
       "      <td>21</td>\n",
       "      <td>M</td>\n",
       "      <td>G1</td>\n",
       "      <td>-</td>\n",
       "      <td>-</td>\n",
       "    </tr>\n",
       "    <tr>\n",
       "      <th>92</th>\n",
       "      <td>M1</td>\n",
       "      <td>A</td>\n",
       "      <td>1</td>\n",
       "      <td>1</td>\n",
       "      <td>M</td>\n",
       "      <td>PM3</td>\n",
       "      <td>-</td>\n",
       "      <td>-</td>\n",
       "    </tr>\n",
       "    <tr>\n",
       "      <th>...</th>\n",
       "      <td>...</td>\n",
       "      <td>...</td>\n",
       "      <td>...</td>\n",
       "      <td>...</td>\n",
       "      <td>...</td>\n",
       "      <td>...</td>\n",
       "      <td>...</td>\n",
       "      <td>...</td>\n",
       "    </tr>\n",
       "    <tr>\n",
       "      <th>509</th>\n",
       "      <td>NSMR</td>\n",
       "      <td>B</td>\n",
       "      <td>32</td>\n",
       "      <td>32</td>\n",
       "      <td>M</td>\n",
       "      <td>PM5</td>\n",
       "      <td>-</td>\n",
       "      <td>-</td>\n",
       "    </tr>\n",
       "    <tr>\n",
       "      <th>510</th>\n",
       "      <td>NSMR</td>\n",
       "      <td>B</td>\n",
       "      <td>33</td>\n",
       "      <td>33</td>\n",
       "      <td>M</td>\n",
       "      <td>PM5</td>\n",
       "      <td>-</td>\n",
       "      <td>-</td>\n",
       "    </tr>\n",
       "    <tr>\n",
       "      <th>511</th>\n",
       "      <td>NSMR</td>\n",
       "      <td>B</td>\n",
       "      <td>34</td>\n",
       "      <td>34</td>\n",
       "      <td>M</td>\n",
       "      <td>PM5</td>\n",
       "      <td>-</td>\n",
       "      <td>-</td>\n",
       "    </tr>\n",
       "    <tr>\n",
       "      <th>513</th>\n",
       "      <td>NSMR</td>\n",
       "      <td>B</td>\n",
       "      <td>36</td>\n",
       "      <td>36</td>\n",
       "      <td>M</td>\n",
       "      <td>PM5</td>\n",
       "      <td>-</td>\n",
       "      <td>af8</td>\n",
       "    </tr>\n",
       "    <tr>\n",
       "      <th>514</th>\n",
       "      <td>NSMR</td>\n",
       "      <td>B</td>\n",
       "      <td>37</td>\n",
       "      <td>37</td>\n",
       "      <td>M</td>\n",
       "      <td>PM5</td>\n",
       "      <td>-</td>\n",
       "      <td>af8</td>\n",
       "    </tr>\n",
       "  </tbody>\n",
       "</table>\n",
       "<p>301 rows × 8 columns</p>\n",
       "</div>"
      ],
      "text/plain": [
       "    neuron_1 type_1  nbr_1  nbr_2 type_2 neuron_2  v  src\n",
       "70        I5      C      9     11      S       G1  -    -\n",
       "71        I5      C     10     12      M      PM5  -    -\n",
       "81        I5      H     18     21      M      PM5  -    -\n",
       "82        I5      H     18     21      M       G1  -    -\n",
       "92        M1      A      1      1      M      PM3  -    -\n",
       "..       ...    ...    ...    ...    ...      ... ..  ...\n",
       "509     NSMR      B     32     32      M      PM5  -    -\n",
       "510     NSMR      B     33     33      M      PM5  -    -\n",
       "511     NSMR      B     34     34      M      PM5  -    -\n",
       "513     NSMR      B     36     36      M      PM5  -  af8\n",
       "514     NSMR      B     37     37      M      PM5  -  af8\n",
       "\n",
       "[301 rows x 8 columns]"
      ]
     },
     "execution_count": 16,
     "metadata": {},
     "output_type": "execute_result"
    }
   ],
   "source": [
    "nn_names = set(df_nn_neurons[\"name\"])\n",
    "nn_groups = set(df_nn_neurons[\"group\"])\n",
    "nn_all = nn_names | nn_groups\n",
    "df_pn[~df_pn[\"neuron_2\"].isin(nn_all)]"
   ]
  },
  {
   "cell_type": "markdown",
   "metadata": {},
   "source": [
    "**Answer:** All `neuron_1` names appear in the list, but 301 records have `neuron_2` names which do not. What are the distinct values with counts? What are the distinct values that *do* occur, with counts?"
   ]
  },
  {
   "cell_type": "code",
   "execution_count": 17,
   "metadata": {},
   "outputs": [
    {
     "data": {
      "text/plain": [
       "BM       33\n",
       "G         2\n",
       "G1       22\n",
       "PM1       8\n",
       "PM2       4\n",
       "PM3       4\n",
       "PM4      21\n",
       "PM5     155\n",
       "PM6      10\n",
       "PM7      32\n",
       "PMC       6\n",
       "PMC2      4\n",
       "Name: neuron_2, dtype: int64"
      ]
     },
     "execution_count": 17,
     "metadata": {},
     "output_type": "execute_result"
    }
   ],
   "source": [
    "df_pn[~df_pn[\"neuron_2\"].isin(nn_all)][\"neuron_2\"].value_counts().sort_index()"
   ]
  },
  {
   "cell_type": "code",
   "execution_count": 18,
   "metadata": {},
   "outputs": [
    {
     "data": {
      "text/plain": [
       "I1     17\n",
       "I1L     1\n",
       "I1R     1\n",
       "I2     18\n",
       "I3     16\n",
       "I4     15\n",
       "I5     20\n",
       "I6     11\n",
       "M1     19\n",
       "M2     16\n",
       "M2L     1\n",
       "M2R     1\n",
       "M3     16\n",
       "M3L     1\n",
       "M3R     1\n",
       "M4     18\n",
       "M5     13\n",
       "MC      9\n",
       "MI      4\n",
       "NSM    20\n",
       "RIP     2\n",
       "Name: neuron_2, dtype: int64"
      ]
     },
     "execution_count": 18,
     "metadata": {},
     "output_type": "execute_result"
    }
   ],
   "source": [
    "df_pn[df_pn[\"neuron_2\"].isin(nn_all)][\"neuron_2\"].value_counts().sort_index()"
   ]
  },
  {
   "cell_type": "markdown",
   "metadata": {},
   "source": [
    "What are the distinct values in `neuron_1`?"
   ]
  },
  {
   "cell_type": "code",
   "execution_count": 19,
   "metadata": {},
   "outputs": [
    {
     "data": {
      "text/plain": [
       "I1L      12\n",
       "I1R      11\n",
       "I2L       8\n",
       "I2R       8\n",
       "I3        7\n",
       "I4       12\n",
       "I5       26\n",
       "I6        8\n",
       "M1       32\n",
       "M2L      37\n",
       "M2R      40\n",
       "M3L      18\n",
       "M3R      17\n",
       "M4      105\n",
       "M5       63\n",
       "MCL       7\n",
       "MCR       6\n",
       "MI       20\n",
       "NSML     38\n",
       "NSMR     46\n",
       "Name: neuron_1, dtype: int64"
      ]
     },
     "execution_count": 19,
     "metadata": {},
     "output_type": "execute_result"
    }
   ],
   "source": [
    "df_pn[\"neuron_1\"].value_counts().sort_index()"
   ]
  },
  {
   "cell_type": "markdown",
   "metadata": {},
   "source": [
    "Compare this to the list of neurons names that do not show up in the connections."
   ]
  },
  {
   "cell_type": "code",
   "execution_count": 20,
   "metadata": {},
   "outputs": [
    {
     "data": {
      "text/html": [
       "<div>\n",
       "<style scoped>\n",
       "    .dataframe tbody tr th:only-of-type {\n",
       "        vertical-align: middle;\n",
       "    }\n",
       "\n",
       "    .dataframe tbody tr th {\n",
       "        vertical-align: top;\n",
       "    }\n",
       "\n",
       "    .dataframe thead th {\n",
       "        text-align: right;\n",
       "    }\n",
       "</style>\n",
       "<table border=\"1\" class=\"dataframe\">\n",
       "  <thead>\n",
       "    <tr style=\"text-align: right;\">\n",
       "      <th></th>\n",
       "      <th>name</th>\n",
       "      <th>group</th>\n",
       "      <th>type</th>\n",
       "    </tr>\n",
       "  </thead>\n",
       "  <tbody>\n",
       "    <tr>\n",
       "      <th>82</th>\n",
       "      <td>CANL</td>\n",
       "      <td>CAN</td>\n",
       "      <td>in</td>\n",
       "    </tr>\n",
       "    <tr>\n",
       "      <th>83</th>\n",
       "      <td>CANR</td>\n",
       "      <td>CAN</td>\n",
       "      <td>in</td>\n",
       "    </tr>\n",
       "    <tr>\n",
       "      <th>119</th>\n",
       "      <td>I2L</td>\n",
       "      <td>I2</td>\n",
       "      <td>in</td>\n",
       "    </tr>\n",
       "    <tr>\n",
       "      <th>120</th>\n",
       "      <td>I2R</td>\n",
       "      <td>I2</td>\n",
       "      <td>in</td>\n",
       "    </tr>\n",
       "    <tr>\n",
       "      <th>121</th>\n",
       "      <td>I3</td>\n",
       "      <td>I3</td>\n",
       "      <td>in</td>\n",
       "    </tr>\n",
       "    <tr>\n",
       "      <th>122</th>\n",
       "      <td>I4</td>\n",
       "      <td>I4</td>\n",
       "      <td>in</td>\n",
       "    </tr>\n",
       "    <tr>\n",
       "      <th>123</th>\n",
       "      <td>I5</td>\n",
       "      <td>I5</td>\n",
       "      <td>in</td>\n",
       "    </tr>\n",
       "    <tr>\n",
       "      <th>124</th>\n",
       "      <td>I6</td>\n",
       "      <td>I6</td>\n",
       "      <td>in</td>\n",
       "    </tr>\n",
       "    <tr>\n",
       "      <th>139</th>\n",
       "      <td>M1</td>\n",
       "      <td>M1</td>\n",
       "      <td>mo</td>\n",
       "    </tr>\n",
       "    <tr>\n",
       "      <th>140</th>\n",
       "      <td>M2L</td>\n",
       "      <td>M2</td>\n",
       "      <td>mo</td>\n",
       "    </tr>\n",
       "    <tr>\n",
       "      <th>141</th>\n",
       "      <td>M2R</td>\n",
       "      <td>M2</td>\n",
       "      <td>mo</td>\n",
       "    </tr>\n",
       "    <tr>\n",
       "      <th>142</th>\n",
       "      <td>M3L</td>\n",
       "      <td>M3</td>\n",
       "      <td>mo/in</td>\n",
       "    </tr>\n",
       "    <tr>\n",
       "      <th>143</th>\n",
       "      <td>M3R</td>\n",
       "      <td>M3</td>\n",
       "      <td>mo/in</td>\n",
       "    </tr>\n",
       "    <tr>\n",
       "      <th>144</th>\n",
       "      <td>M4</td>\n",
       "      <td>M4</td>\n",
       "      <td>mo</td>\n",
       "    </tr>\n",
       "    <tr>\n",
       "      <th>145</th>\n",
       "      <td>M5</td>\n",
       "      <td>M5</td>\n",
       "      <td>mo</td>\n",
       "    </tr>\n",
       "    <tr>\n",
       "      <th>146</th>\n",
       "      <td>MCL</td>\n",
       "      <td>MC</td>\n",
       "      <td>in</td>\n",
       "    </tr>\n",
       "    <tr>\n",
       "      <th>147</th>\n",
       "      <td>MCR</td>\n",
       "      <td>MC</td>\n",
       "      <td>in</td>\n",
       "    </tr>\n",
       "    <tr>\n",
       "      <th>148</th>\n",
       "      <td>MI</td>\n",
       "      <td>MI</td>\n",
       "      <td>mo/in</td>\n",
       "    </tr>\n",
       "    <tr>\n",
       "      <th>149</th>\n",
       "      <td>NSML</td>\n",
       "      <td>NSM</td>\n",
       "      <td>mo</td>\n",
       "    </tr>\n",
       "    <tr>\n",
       "      <th>150</th>\n",
       "      <td>NSMR</td>\n",
       "      <td>NSM</td>\n",
       "      <td>mo</td>\n",
       "    </tr>\n",
       "  </tbody>\n",
       "</table>\n",
       "</div>"
      ],
      "text/plain": [
       "     name group   type\n",
       "82   CANL   CAN     in\n",
       "83   CANR   CAN     in\n",
       "119   I2L    I2     in\n",
       "120   I2R    I2     in\n",
       "121    I3    I3     in\n",
       "122    I4    I4     in\n",
       "123    I5    I5     in\n",
       "124    I6    I6     in\n",
       "139    M1    M1     mo\n",
       "140   M2L    M2     mo\n",
       "141   M2R    M2     mo\n",
       "142   M3L    M3  mo/in\n",
       "143   M3R    M3  mo/in\n",
       "144    M4    M4     mo\n",
       "145    M5    M5     mo\n",
       "146   MCL    MC     in\n",
       "147   MCR    MC     in\n",
       "148    MI    MI  mo/in\n",
       "149  NSML   NSM     mo\n",
       "150  NSMR   NSM     mo"
      ]
     },
     "execution_count": 20,
     "metadata": {},
     "output_type": "execute_result"
    }
   ],
   "source": [
    "df_nn_neurons[(~df_nn_neurons[\"name\"].isin(nc_names)) & (~df_nn_neurons[\"group\"].isin(nc_names))].sort_values(by=[\"name\"])"
   ]
  },
  {
   "cell_type": "code",
   "execution_count": 21,
   "metadata": {},
   "outputs": [
    {
     "data": {
      "text/plain": [
       "({'CANL', 'CANR'}, {'I1L', 'I1R'})"
      ]
     },
     "execution_count": 21,
     "metadata": {},
     "output_type": "execute_result"
    }
   ],
   "source": [
    "ncon_names = set(df_nn_neurons[(~df_nn_neurons[\"name\"].isin(nc_names)) & (~df_nn_neurons[\"group\"].isin(nc_names))][\"name\"])\n",
    "pn_names = set(df_pn[\"neuron_1\"])\n",
    "\n",
    "ncon_names - pn_names, pn_names - ncon_names"
   ]
  },
  {
   "cell_type": "markdown",
   "metadata": {},
   "source": [
    "`CANL` and `CANR` are the names of two neurons which are known not to have any connections to other neurons. `I1L` and `I1R` correspond to `I1` which is the only neuron connecting the pharangeal system to the remainder of the nervous system."
   ]
  },
  {
   "cell_type": "markdown",
   "metadata": {},
   "source": [
    "### Compare to data from GitHub repository\n",
    "\n",
    "Check this list of connections (including both sets) against data obtained from [this GitHub repository](https://github.com/openworm/CElegansNeuroML)."
   ]
  },
  {
   "cell_type": "code",
   "execution_count": 22,
   "metadata": {},
   "outputs": [
    {
     "data": {
      "text/html": [
       "<div>\n",
       "<style scoped>\n",
       "    .dataframe tbody tr th:only-of-type {\n",
       "        vertical-align: middle;\n",
       "    }\n",
       "\n",
       "    .dataframe tbody tr th {\n",
       "        vertical-align: top;\n",
       "    }\n",
       "\n",
       "    .dataframe thead th {\n",
       "        text-align: right;\n",
       "    }\n",
       "</style>\n",
       "<table border=\"1\" class=\"dataframe\">\n",
       "  <thead>\n",
       "    <tr style=\"text-align: right;\">\n",
       "      <th></th>\n",
       "      <th>Origin</th>\n",
       "      <th>Target</th>\n",
       "      <th>Type</th>\n",
       "      <th>Number of Connections</th>\n",
       "      <th>Neurotransmitter</th>\n",
       "    </tr>\n",
       "  </thead>\n",
       "  <tbody>\n",
       "    <tr>\n",
       "      <th>0</th>\n",
       "      <td>ADAL</td>\n",
       "      <td>ADAR</td>\n",
       "      <td>GapJunction</td>\n",
       "      <td>1</td>\n",
       "      <td>Generic_GJ</td>\n",
       "    </tr>\n",
       "    <tr>\n",
       "      <th>1</th>\n",
       "      <td>ADAL</td>\n",
       "      <td>ADFL</td>\n",
       "      <td>GapJunction</td>\n",
       "      <td>1</td>\n",
       "      <td>Generic_GJ</td>\n",
       "    </tr>\n",
       "    <tr>\n",
       "      <th>2</th>\n",
       "      <td>ADAL</td>\n",
       "      <td>AIBL</td>\n",
       "      <td>Send</td>\n",
       "      <td>1</td>\n",
       "      <td>Glutamate</td>\n",
       "    </tr>\n",
       "    <tr>\n",
       "      <th>3</th>\n",
       "      <td>ADAL</td>\n",
       "      <td>AIBR</td>\n",
       "      <td>Send</td>\n",
       "      <td>2</td>\n",
       "      <td>Glutamate</td>\n",
       "    </tr>\n",
       "    <tr>\n",
       "      <th>4</th>\n",
       "      <td>ADAL</td>\n",
       "      <td>ASHL</td>\n",
       "      <td>GapJunction</td>\n",
       "      <td>1</td>\n",
       "      <td>Generic_GJ</td>\n",
       "    </tr>\n",
       "  </tbody>\n",
       "</table>\n",
       "</div>"
      ],
      "text/plain": [
       "  Origin Target         Type  Number of Connections Neurotransmitter\n",
       "0   ADAL   ADAR  GapJunction                      1       Generic_GJ\n",
       "1   ADAL   ADFL  GapJunction                      1       Generic_GJ\n",
       "2   ADAL   AIBL         Send                      1        Glutamate\n",
       "3   ADAL   AIBR         Send                      2        Glutamate\n",
       "4   ADAL   ASHL  GapJunction                      1       Generic_GJ"
      ]
     },
     "execution_count": 22,
     "metadata": {},
     "output_type": "execute_result"
    }
   ],
   "source": [
    "df_old = pd.read_csv(\"CElegansNeuronTables-connectome.csv\")\n",
    "df_old.head()"
   ]
  },
  {
   "cell_type": "code",
   "execution_count": 23,
   "metadata": {},
   "outputs": [
    {
     "data": {
      "text/plain": [
       "({('I3', 'M3L'), ('I3', 'MI'), ('I4', 'MI'), ('M1', 'M4'), ('M1', 'MI')},\n",
       " {('I1L', 'I2L'),\n",
       "  ('I1L', 'I2R'),\n",
       "  ('I1L', 'I3'),\n",
       "  ('I1L', 'M2L'),\n",
       "  ('I1L', 'M2R'),\n",
       "  ('I1L', 'M3L'),\n",
       "  ('I1L', 'M3R'),\n",
       "  ('I1L', 'MCL'),\n",
       "  ('I1L', 'MCR'),\n",
       "  ('I1L', 'NSML'),\n",
       "  ('I1L', 'NSMR'),\n",
       "  ('I1R', 'I2L'),\n",
       "  ('I1R', 'I2R'),\n",
       "  ('I1R', 'I3'),\n",
       "  ('I1R', 'M2L'),\n",
       "  ('I1R', 'M2R'),\n",
       "  ('I1R', 'M3L'),\n",
       "  ('I1R', 'M3R'),\n",
       "  ('I1R', 'MCL'),\n",
       "  ('I1R', 'MCR'),\n",
       "  ('I1R', 'NSML'),\n",
       "  ('I1R', 'NSMR'),\n",
       "  ('I2L', 'MCL'),\n",
       "  ('I2L', 'NSML'),\n",
       "  ('I2L', 'NSMR'),\n",
       "  ('I2R', 'MCL'),\n",
       "  ('I2R', 'NSML'),\n",
       "  ('I2R', 'NSMR'),\n",
       "  ('I3', 'MCL'),\n",
       "  ('I3', 'MCR'),\n",
       "  ('I5', 'NSML'),\n",
       "  ('I5', 'NSMR'),\n",
       "  ('M2L', 'M4'),\n",
       "  ('M2L', 'MCL'),\n",
       "  ('M2L', 'MCR'),\n",
       "  ('M2R', 'M3L'),\n",
       "  ('M2R', 'M3R'),\n",
       "  ('M2R', 'M4'),\n",
       "  ('M2R', 'MCL'),\n",
       "  ('M2R', 'MCR'),\n",
       "  ('M3L', 'MCL'),\n",
       "  ('M3L', 'MCR'),\n",
       "  ('M3L', 'MI'),\n",
       "  ('M3L', 'NSML'),\n",
       "  ('M3L', 'NSMR'),\n",
       "  ('M3R', 'MCL'),\n",
       "  ('M3R', 'MCR'),\n",
       "  ('M3R', 'MI'),\n",
       "  ('M3R', 'NSML'),\n",
       "  ('M3R', 'NSMR'),\n",
       "  ('M4', 'NSML'),\n",
       "  ('M4', 'NSMR')})"
      ]
     },
     "execution_count": 23,
     "metadata": {},
     "output_type": "execute_result"
    }
   ],
   "source": [
    "def n_tuple(n1, n2):\n",
    "    if n1 < n2:\n",
    "        return (n1, n2)\n",
    "    return (n2, n1)\n",
    "\n",
    "def nc_key(row):\n",
    "    return n_tuple(row[\"neuron_1\"], row[\"neuron_2\"])\n",
    "\n",
    "def old_key(row):\n",
    "    return n_tuple(row[\"Origin\"], row[\"Target\"])\n",
    "\n",
    "new_keys_nn = set(df_nc[(df_nc[\"neuron_1\"].isin(neuron_names)) & (df_nc[\"neuron_2\"].isin(neuron_names))].apply(nc_key, axis=1))\n",
    "new_keys_pn = set(df_pn[(df_pn[\"neuron_1\"].isin(neuron_names)) & (df_pn[\"neuron_2\"].isin(neuron_names))].apply(nc_key, axis=1))\n",
    "new_keys = new_keys_nn | new_keys_pn\n",
    "\n",
    "old_keys = set(df_old.apply(old_key, axis=1))\n",
    "\n",
    "new_keys - old_keys, old_keys - new_keys"
   ]
  },
  {
   "cell_type": "markdown",
   "metadata": {},
   "source": [
    "When both sets of connections are reduced by eliminating duplicates and discounting the order of the neurons mentioned, and non-neuron names are left out, the only differences occur due to some connections being listed as incident to a group in one set and an individual neuron in the second."
   ]
  },
  {
   "cell_type": "code",
   "execution_count": 24,
   "metadata": {},
   "outputs": [
    {
     "data": {
      "text/plain": [
       "2395"
      ]
     },
     "execution_count": 24,
     "metadata": {},
     "output_type": "execute_result"
    }
   ],
   "source": [
    "len(old_keys)"
   ]
  },
  {
   "cell_type": "code",
   "execution_count": 25,
   "metadata": {},
   "outputs": [
    {
     "name": "stdout",
     "output_type": "stream",
     "text": [
      "2290\n",
      "2290\n"
     ]
    }
   ],
   "source": [
    "pn_names = (set(df_pn[\"neuron_1\"]) | set(df_pn[\"neuron_2\"]))\n",
    "print(len([x for x in old_keys if x[0] not in pn_names and x[1] not in pn_names]))\n",
    "print(len([x for x in new_keys if x[0] not in pn_names and x[1] not in pn_names]))"
   ]
  },
  {
   "cell_type": "markdown",
   "metadata": {},
   "source": [
    "All of these differences occur within the pharyngeal connections list."
   ]
  },
  {
   "cell_type": "code",
   "execution_count": 26,
   "metadata": {},
   "outputs": [],
   "source": [
    "final_edges = [x for x in new_keys if x[0] not in pn_names and x[1] not in pn_names]\n",
    "with open(\"non-pharyngeal-edges.csv\", \"w\", encoding=\"utf-8\") as f:\n",
    "    for n1, n2 in final_edges:\n",
    "        f.write(\"{},{}\\n\".format(n1, n2))"
   ]
  },
  {
   "cell_type": "markdown",
   "metadata": {},
   "source": [
    "### Degree distribution"
   ]
  },
  {
   "cell_type": "code",
   "execution_count": 27,
   "metadata": {},
   "outputs": [],
   "source": [
    "from collections import Counter\n",
    "ctr = Counter([e[0] for e in final_edges] + [e[1] for e in final_edges])\n",
    "deg = Counter(ctr.values())\n",
    "deg_list = sorted(deg.keys())\n",
    "degree_dist = [(d, deg[d]) for d in deg_list]"
   ]
  },
  {
   "cell_type": "code",
   "execution_count": 28,
   "metadata": {},
   "outputs": [
    {
     "data": {
      "text/plain": [
       "[(2, 5),\n",
       " (3, 3),\n",
       " (4, 4),\n",
       " (5, 4),\n",
       " (6, 13),\n",
       " (7, 15),\n",
       " (8, 14),\n",
       " (9, 17),\n",
       " (10, 21),\n",
       " (11, 12)]"
      ]
     },
     "execution_count": 28,
     "metadata": {},
     "output_type": "execute_result"
    }
   ],
   "source": [
    "degree_dist[:10]"
   ]
  },
  {
   "cell_type": "code",
   "execution_count": 29,
   "metadata": {},
   "outputs": [],
   "source": [
    "with open(\"degree-distribution.csv\", \"w\", encoding=\"utf-8\") as f:\n",
    "    f.write(\"Degree,Frequency\\n\")\n",
    "    for d, v in degree_dist:\n",
    "        f.write(\"{},{}\\n\".format(d, v))"
   ]
  },
  {
   "cell_type": "markdown",
   "metadata": {},
   "source": [
    "### Mean distance"
   ]
  },
  {
   "cell_type": "code",
   "execution_count": 30,
   "metadata": {},
   "outputs": [],
   "source": [
    "import igraph"
   ]
  },
  {
   "cell_type": "code",
   "execution_count": 31,
   "metadata": {},
   "outputs": [],
   "source": [
    "all_vertices = sorted(set([x[0] for x in final_edges] + [x[1] for x in final_edges]))\n",
    "g = igraph.Graph()\n",
    "g.add_vertices(all_vertices)\n",
    "g.add_edges(final_edges)"
   ]
  },
  {
   "cell_type": "code",
   "execution_count": 32,
   "metadata": {},
   "outputs": [
    {
     "name": "stdout",
     "output_type": "stream",
     "text": [
      "Mean distance =  2.435625692993992\n",
      "Total distance =  94456.0\n"
     ]
    }
   ],
   "source": [
    "print(\"Mean distance = \", g.average_path_length(directed=False))\n",
    "print(\"Total distance = \", g.average_path_length(directed=False) * (len(all_vertices) * (len(all_vertices) - 1) / 2))"
   ]
  },
  {
   "cell_type": "markdown",
   "metadata": {},
   "source": [
    "### Verify number of vertices"
   ]
  },
  {
   "cell_type": "code",
   "execution_count": 33,
   "metadata": {},
   "outputs": [
    {
     "data": {
      "text/plain": [
       "279"
      ]
     },
     "execution_count": 33,
     "metadata": {},
     "output_type": "execute_result"
    }
   ],
   "source": [
    "len(all_vertices)"
   ]
  },
  {
   "cell_type": "code",
   "execution_count": 34,
   "metadata": {},
   "outputs": [
    {
     "data": {
      "text/plain": [
       "{'CANL', 'CANR', 'VC6'}"
      ]
     },
     "execution_count": 34,
     "metadata": {},
     "output_type": "execute_result"
    }
   ],
   "source": [
    "set(df_nn_neurons[\"name\"]) - set(all_vertices) - pn_names"
   ]
  },
  {
   "cell_type": "code",
   "execution_count": 35,
   "metadata": {},
   "outputs": [
    {
     "data": {
      "text/html": [
       "<div>\n",
       "<style scoped>\n",
       "    .dataframe tbody tr th:only-of-type {\n",
       "        vertical-align: middle;\n",
       "    }\n",
       "\n",
       "    .dataframe tbody tr th {\n",
       "        vertical-align: top;\n",
       "    }\n",
       "\n",
       "    .dataframe thead th {\n",
       "        text-align: right;\n",
       "    }\n",
       "</style>\n",
       "<table border=\"1\" class=\"dataframe\">\n",
       "  <thead>\n",
       "    <tr style=\"text-align: right;\">\n",
       "      <th></th>\n",
       "      <th>neuron_1</th>\n",
       "      <th>neuron_2</th>\n",
       "      <th>type</th>\n",
       "      <th>nbr</th>\n",
       "    </tr>\n",
       "  </thead>\n",
       "  <tbody>\n",
       "    <tr>\n",
       "      <th>6403</th>\n",
       "      <td>VC6</td>\n",
       "      <td>NMJ</td>\n",
       "      <td>NMJ</td>\n",
       "      <td>1</td>\n",
       "    </tr>\n",
       "  </tbody>\n",
       "</table>\n",
       "</div>"
      ],
      "text/plain": [
       "     neuron_1 neuron_2 type  nbr\n",
       "6403      VC6      NMJ  NMJ    1"
      ]
     },
     "execution_count": 35,
     "metadata": {},
     "output_type": "execute_result"
    }
   ],
   "source": [
    "df_nc[(df_nc[\"neuron_1\"] == \"VC6\") | (df_nc[\"neuron_2\"] == \"VC6\")]"
   ]
  },
  {
   "cell_type": "markdown",
   "metadata": {},
   "source": [
    "According to [WormAtlas](https://wormatlas.org/neuronalwiring.html#NeuronalconnectivityII), \"Along with CANL/R, VC6 was omitted since it only makes one NMJ\"."
   ]
  },
  {
   "cell_type": "markdown",
   "metadata": {},
   "source": [
    "### Mean degree and density"
   ]
  },
  {
   "cell_type": "code",
   "execution_count": 36,
   "metadata": {},
   "outputs": [
    {
     "name": "stdout",
     "output_type": "stream",
     "text": [
      "Mean degree =  2290  /  279  =  8.207885304659499\n"
     ]
    }
   ],
   "source": [
    "print(\"Mean degree = \", len(final_edges), \" / \", len(all_vertices), \" = \", len(final_edges) / len(all_vertices))"
   ]
  },
  {
   "cell_type": "code",
   "execution_count": 37,
   "metadata": {},
   "outputs": [
    {
     "name": "stdout",
     "output_type": "stream",
     "text": [
      "Density =  2290  / ( 279  *  278 ) =  0.029524767282947836\n"
     ]
    }
   ],
   "source": [
    "print(\"Density = \", len(final_edges), \" / (\", len(all_vertices), \" * \", len(all_vertices) - 1, \") = \", len(final_edges) / (len(all_vertices) * (len(all_vertices) - 1)))"
   ]
  },
  {
   "cell_type": "markdown",
   "metadata": {},
   "source": [
    "### Treat the graph as directed and redo the statistics"
   ]
  },
  {
   "cell_type": "code",
   "execution_count": 38,
   "metadata": {},
   "outputs": [
    {
     "name": "stdout",
     "output_type": "stream",
     "text": [
      "Number of edges (directed):  2993\n"
     ]
    }
   ],
   "source": [
    "old_directed_edges = list(set(df_old.apply(lambda row: (row[\"Origin\"], row[\"Target\"]), axis=1)))\n",
    "old_directed_edges = [x for x in old_directed_edges if x[0] not in pn_names and x[1] not in pn_names]\n",
    "print(\"Number of edges (directed): \", len(old_directed_edges))"
   ]
  },
  {
   "cell_type": "code",
   "execution_count": 39,
   "metadata": {},
   "outputs": [],
   "source": [
    "with open(\"non-pharyngeal-directed-edges.csv\", \"w\", encoding=\"utf-8\") as f:\n",
    "    for e in old_directed_edges:\n",
    "        f.write(\"{},{}\\n\".format(e[0], e[1]))"
   ]
  },
  {
   "cell_type": "code",
   "execution_count": 40,
   "metadata": {},
   "outputs": [],
   "source": [
    "old_directed_vertices = sorted(set([x[0] for x in old_directed_edges] + [x[1] for x in old_directed_edges]))\n",
    "gd = igraph.Graph(directed=True)\n",
    "gd.add_vertices(old_directed_vertices)\n",
    "gd.add_edges(old_directed_edges)"
   ]
  },
  {
   "cell_type": "code",
   "execution_count": 41,
   "metadata": {},
   "outputs": [
    {
     "name": "stdout",
     "output_type": "stream",
     "text": [
      "Number of vertices =  279\n",
      "Number of edges =  2993\n",
      "Mean distance =  2.876220856962823\n",
      "Total distance =  111542.72105387524\n",
      "Mean degree =  2993  /  279  =  10.727598566308243\n",
      "Density =  2993  / ( 279  *  278 ) =  0.0385884840514685\n"
     ]
    }
   ],
   "source": [
    "md = gd.average_path_length(directed=True)\n",
    "vc = len(old_directed_vertices)\n",
    "ec = len(old_directed_edges)\n",
    "v2 = len(old_directed_vertices) * (len(old_directed_vertices) - 1) / 2\n",
    "print(\"Number of vertices = \", vc)\n",
    "print(\"Number of edges = \", ec)\n",
    "print(\"Mean distance = \", md)\n",
    "print(\"Total distance = \", md * v2)\n",
    "print(\"Mean degree = \", ec, \" / \", vc, \" = \", float(ec) / vc)\n",
    "print(\"Density = \", ec, \" / (\", vc, \" * \", vc - 1, \") = \", ec / (vc * (vc - 1)))"
   ]
  },
  {
   "cell_type": "code",
   "execution_count": 42,
   "metadata": {},
   "outputs": [
    {
     "data": {
      "text/plain": [
       "([(1, 6),\n",
       "  (2, 12),\n",
       "  (3, 20),\n",
       "  (4, 13),\n",
       "  (5, 20),\n",
       "  (6, 23),\n",
       "  (7, 15),\n",
       "  (8, 25),\n",
       "  (9, 22),\n",
       "  (10, 14)],\n",
       " [(1, 2),\n",
       "  (2, 16),\n",
       "  (3, 18),\n",
       "  (4, 16),\n",
       "  (5, 19),\n",
       "  (6, 18),\n",
       "  (7, 25),\n",
       "  (8, 26),\n",
       "  (9, 18),\n",
       "  (10, 23)])"
      ]
     },
     "execution_count": 42,
     "metadata": {},
     "output_type": "execute_result"
    }
   ],
   "source": [
    "out_degrees = Counter((x[0] for x in old_directed_edges))\n",
    "out_deg_dist = sorted(Counter(out_degrees.values()).items(), key=lambda t: t[0])\n",
    "\n",
    "in_degrees = Counter((x[1] for x in old_directed_edges))\n",
    "in_deg_dist = sorted(Counter(in_degrees.values()).items(), key=lambda t: t[0])\n",
    "\n",
    "out_deg_dist[:10], in_deg_dist[:10]"
   ]
  },
  {
   "cell_type": "code",
   "execution_count": 43,
   "metadata": {},
   "outputs": [],
   "source": [
    "with open(\"out-degree-dist.csv\", \"w\", encoding=\"utf-8\") as f:\n",
    "    f.write(\"Degree,Frequency\\n\")\n",
    "    for t in out_deg_dist:\n",
    "        f.write(\"{},{}\\n\".format(t[0], t[1]))\n",
    "        \n",
    "with open(\"in-degree-dist.csv\", \"w\", encoding=\"utf-8\") as f:\n",
    "    f.write(\"Degree,Frequency\\n\")\n",
    "    for t in in_deg_dist:\n",
    "        f.write(\"{},{}\\n\".format(t[0], t[1]))\n"
   ]
  },
  {
   "cell_type": "markdown",
   "metadata": {},
   "source": [
    "### Treat new edges as directed and compute statistics"
   ]
  },
  {
   "cell_type": "code",
   "execution_count": 44,
   "metadata": {},
   "outputs": [
    {
     "name": "stdout",
     "output_type": "stream",
     "text": [
      "Number of edges (new data, directed):  4577\n"
     ]
    }
   ],
   "source": [
    "new_directed_edges = list(set(df_nc.apply(lambda row: (row[\"neuron_1\"], row[\"neuron_2\"]), axis=1)))\n",
    "new_directed_edges = [x for x in new_directed_edges if x[0] not in pn_names and x[1] not in pn_names and x[0] in neuron_names and x[1] in neuron_names]\n",
    "print(\"Number of edges (new data, directed): \", len(new_directed_edges))"
   ]
  },
  {
   "cell_type": "code",
   "execution_count": 45,
   "metadata": {},
   "outputs": [
    {
     "name": "stdout",
     "output_type": "stream",
     "text": [
      "Number of directed edges in new set but not old:  1584\n"
     ]
    }
   ],
   "source": [
    "print(\"Number of directed edges in new set but not old: \", len(set(new_directed_edges) - set(old_directed_edges)))"
   ]
  },
  {
   "cell_type": "markdown",
   "metadata": {},
   "source": [
    "There are a lot more edges in the new set, treated as directed, than in the old one. Before proceeding with statistics it is a good idea to find out why."
   ]
  },
  {
   "cell_type": "markdown",
   "metadata": {},
   "source": [
    "### How many directed edges in the old and new sets have the opposite edge also occurring?"
   ]
  },
  {
   "cell_type": "code",
   "execution_count": 46,
   "metadata": {},
   "outputs": [
    {
     "data": {
      "text/plain": [
       "(2993, 1409)"
      ]
     },
     "execution_count": 46,
     "metadata": {},
     "output_type": "execute_result"
    }
   ],
   "source": [
    "len(old_directed_edges), sum([1 if (y, x) in old_directed_edges else 0 for x, y in old_directed_edges])"
   ]
  },
  {
   "cell_type": "code",
   "execution_count": 47,
   "metadata": {},
   "outputs": [
    {
     "data": {
      "text/plain": [
       "(4577, 4577)"
      ]
     },
     "execution_count": 47,
     "metadata": {},
     "output_type": "execute_result"
    }
   ],
   "source": [
    "len(new_directed_edges), sum([1 if (y, x) in new_directed_edges else 0 for x, y in new_directed_edges])"
   ]
  },
  {
   "cell_type": "code",
   "execution_count": 48,
   "metadata": {},
   "outputs": [
    {
     "data": {
      "text/plain": [
       "4577"
      ]
     },
     "execution_count": 48,
     "metadata": {},
     "output_type": "execute_result"
    }
   ],
   "source": [
    "len(new_directed_edges)"
   ]
  },
  {
   "cell_type": "markdown",
   "metadata": {},
   "source": [
    "Since every edge in the new set also has the same edge in the opposite direction, and the total number of edges is odd, there must be one or more loops. Let's find them."
   ]
  },
  {
   "cell_type": "code",
   "execution_count": 49,
   "metadata": {},
   "outputs": [
    {
     "data": {
      "text/html": [
       "<div>\n",
       "<style scoped>\n",
       "    .dataframe tbody tr th:only-of-type {\n",
       "        vertical-align: middle;\n",
       "    }\n",
       "\n",
       "    .dataframe tbody tr th {\n",
       "        vertical-align: top;\n",
       "    }\n",
       "\n",
       "    .dataframe thead th {\n",
       "        text-align: right;\n",
       "    }\n",
       "</style>\n",
       "<table border=\"1\" class=\"dataframe\">\n",
       "  <thead>\n",
       "    <tr style=\"text-align: right;\">\n",
       "      <th></th>\n",
       "      <th>neuron_1</th>\n",
       "      <th>neuron_2</th>\n",
       "      <th>type</th>\n",
       "      <th>nbr</th>\n",
       "    </tr>\n",
       "  </thead>\n",
       "  <tbody>\n",
       "    <tr>\n",
       "      <th>4234</th>\n",
       "      <td>RIBL</td>\n",
       "      <td>RIBL</td>\n",
       "      <td>EJ</td>\n",
       "      <td>1</td>\n",
       "    </tr>\n",
       "    <tr>\n",
       "      <th>4282</th>\n",
       "      <td>RIBR</td>\n",
       "      <td>RIBR</td>\n",
       "      <td>EJ</td>\n",
       "      <td>1</td>\n",
       "    </tr>\n",
       "    <tr>\n",
       "      <th>5746</th>\n",
       "      <td>VA8</td>\n",
       "      <td>VA8</td>\n",
       "      <td>EJ</td>\n",
       "      <td>1</td>\n",
       "    </tr>\n",
       "  </tbody>\n",
       "</table>\n",
       "</div>"
      ],
      "text/plain": [
       "     neuron_1 neuron_2 type  nbr\n",
       "4234     RIBL     RIBL   EJ    1\n",
       "4282     RIBR     RIBR   EJ    1\n",
       "5746      VA8      VA8   EJ    1"
      ]
     },
     "execution_count": 49,
     "metadata": {},
     "output_type": "execute_result"
    }
   ],
   "source": [
    "s = set([(x, y) for x, y in new_directed_edges if x == y])\n",
    "df_nc[df_nc.apply(lambda row: (row[\"neuron_1\"], row[\"neuron_2\"]) in s, axis=1)]"
   ]
  },
  {
   "cell_type": "markdown",
   "metadata": {},
   "source": [
    "According to [Worm Atlas](https://wormatlas.org/neuronalwiring.html#NeuronalconnectivityII) the types are as follows:\n",
    "\n",
    "> **Type:** Type of synapse: **S:** Send or output (Neuron 1 pre-synaptic to Neuron 2); **Sp:** Send-poly (Neuron 1 is pre-synaptic to more than one postsynaptic partner.  Neuron 2 is just one of these post-synaptic neurons, see Figure 1 below.  In White et al, 1986, these polyadic synaptic connections were denoted by “m” in the tables of Appendix 1); **R:** Receive or input (Neuron 1 is post-synaptic to Neuron 2); **Rp:** Receive-poly (Neuron 1 is one of several post-synaptic partners of Neuron 2.  See Figure 1 and above); **EJ:** Electric junction; **NMJ:** Neuromuscular junction (only reconstructed NMJ's are represented).\n",
    "\n",
    "This indicates that edges of type \"R\" and \"Rp\" in the new set might be reversals of \"S\" and \"Sp\" edges. Let's see what happens if we restrict the new directed edges to types \"S\", \"Sp\" and \"EJ\"."
   ]
  },
  {
   "cell_type": "code",
   "execution_count": 50,
   "metadata": {},
   "outputs": [
    {
     "name": "stdout",
     "output_type": "stream",
     "text": [
      "Number of edges (new data, directed):  2997\n"
     ]
    }
   ],
   "source": [
    "new_directed_edges_2 = list(set(df_nc[df_nc[\"type\"].isin([\"S\", \"Sp\", \"EJ\"])].apply(lambda row: (row[\"neuron_1\"], row[\"neuron_2\"]), axis=1)))\n",
    "new_directed_edges = [x for x in new_directed_edges_2 if x[0] not in pn_names and x[1] not in pn_names and x[0] in neuron_names and x[1] in neuron_names]\n",
    "print(\"Number of edges (new data, directed): \", len(new_directed_edges_2))"
   ]
  },
  {
   "cell_type": "markdown",
   "metadata": {},
   "source": [
    "Now the old and new edge counts nearly match - difference is only four edges. What are they?"
   ]
  },
  {
   "cell_type": "code",
   "execution_count": 51,
   "metadata": {},
   "outputs": [
    {
     "data": {
      "text/plain": [
       "{('RIPL', 'I1L'), ('RIPL', 'I1R'), ('RIPR', 'I1L'), ('RIPR', 'I1R')}"
      ]
     },
     "execution_count": 51,
     "metadata": {},
     "output_type": "execute_result"
    }
   ],
   "source": [
    "set(new_directed_edges_2) - set(old_directed_edges)"
   ]
  },
  {
   "cell_type": "code",
   "execution_count": 52,
   "metadata": {},
   "outputs": [
    {
     "data": {
      "text/html": [
       "<div>\n",
       "<style scoped>\n",
       "    .dataframe tbody tr th:only-of-type {\n",
       "        vertical-align: middle;\n",
       "    }\n",
       "\n",
       "    .dataframe tbody tr th {\n",
       "        vertical-align: top;\n",
       "    }\n",
       "\n",
       "    .dataframe thead th {\n",
       "        text-align: right;\n",
       "    }\n",
       "</style>\n",
       "<table border=\"1\" class=\"dataframe\">\n",
       "  <thead>\n",
       "    <tr style=\"text-align: right;\">\n",
       "      <th></th>\n",
       "      <th>neuron_1</th>\n",
       "      <th>neuron_2</th>\n",
       "      <th>type</th>\n",
       "      <th>nbr</th>\n",
       "    </tr>\n",
       "  </thead>\n",
       "  <tbody>\n",
       "    <tr>\n",
       "      <th>6417</th>\n",
       "      <td>RIPL</td>\n",
       "      <td>I1L</td>\n",
       "      <td>EJ</td>\n",
       "      <td>1</td>\n",
       "    </tr>\n",
       "    <tr>\n",
       "      <th>6418</th>\n",
       "      <td>RIPR</td>\n",
       "      <td>I1L</td>\n",
       "      <td>EJ</td>\n",
       "      <td>1</td>\n",
       "    </tr>\n",
       "    <tr>\n",
       "      <th>6419</th>\n",
       "      <td>RIPL</td>\n",
       "      <td>I1R</td>\n",
       "      <td>EJ</td>\n",
       "      <td>1</td>\n",
       "    </tr>\n",
       "    <tr>\n",
       "      <th>6420</th>\n",
       "      <td>RIPR</td>\n",
       "      <td>I1R</td>\n",
       "      <td>EJ</td>\n",
       "      <td>1</td>\n",
       "    </tr>\n",
       "  </tbody>\n",
       "</table>\n",
       "</div>"
      ],
      "text/plain": [
       "     neuron_1 neuron_2 type  nbr\n",
       "6417     RIPL      I1L   EJ    1\n",
       "6418     RIPR      I1L   EJ    1\n",
       "6419     RIPL      I1R   EJ    1\n",
       "6420     RIPR      I1R   EJ    1"
      ]
     },
     "execution_count": 52,
     "metadata": {},
     "output_type": "execute_result"
    }
   ],
   "source": [
    "s = set(new_directed_edges_2) - set(old_directed_edges)\n",
    "df_nc[df_nc.apply(lambda row: (row[\"neuron_1\"], row[\"neuron_2\"]) in s, axis=1)]"
   ]
  },
  {
   "cell_type": "markdown",
   "metadata": {},
   "source": [
    "The old data set treated \"I1L\" and \"I2L\" as part of the pharyngeal system and therefore excluded them, while the new data set includes them so that the pharyngeal system can be visualized along with the rest. This comment occurs at the bottom of the new data set:\n",
    "\n",
    "```\n",
    "# Added to connect to Albertson pharyngeal data\n",
    "RIPL \tI1L\tEJ\t1\n",
    "RIPR\tI1L\tEJ\t1\n",
    "RIPL\tI1R\tEJ\t1\n",
    "RIPR\tI1R\tEJ\t1\n",
    "```\n",
    "\n",
    "These four connections are also the only ones not listed in the data [connected to this site](https://wormatlas.org/neuronalwiring.html#NeuronalconnectivityII). Note that the numbering in that spreadsheet used \"01\", \"02\", etc.\n",
    "\n",
    "**Conclusion:** The two data sets are consistent, so the statistics based on the older data set are valid."
   ]
  },
  {
   "cell_type": "markdown",
   "metadata": {},
   "source": [
    "## Save the directed graph as a named edge list, and also with parallel edges and loops removed"
   ]
  },
  {
   "cell_type": "code",
   "execution_count": 54,
   "metadata": {},
   "outputs": [
    {
     "name": "stderr",
     "output_type": "stream",
     "text": [
      "/home/rkingan/.local/lib/python3.6/site-packages/ipykernel_launcher.py:1: RuntimeWarning: weights attribute does not exists at src/io/ncol.c:265\n",
      "  \"\"\"Entry point for launching an IPython kernel.\n",
      "/home/rkingan/.local/lib/python3.6/site-packages/ipykernel_launcher.py:3: RuntimeWarning: weights attribute does not exists at src/io/ncol.c:265\n",
      "  This is separate from the ipykernel package so we can avoid doing imports until\n"
     ]
    }
   ],
   "source": [
    "gd.write_ncol(\"c-elegans.ncol\")\n",
    "gd.simplify()\n",
    "gd.write_ncol(\"c-elegans-simple.ncol\")"
   ]
  },
  {
   "cell_type": "code",
   "execution_count": null,
   "metadata": {},
   "outputs": [],
   "source": []
  }
 ],
 "metadata": {
  "kernelspec": {
   "display_name": "centrality",
   "language": "python",
   "name": "centrality"
  },
  "language_info": {
   "codemirror_mode": {
    "name": "ipython",
    "version": 3
   },
   "file_extension": ".py",
   "mimetype": "text/x-python",
   "name": "python",
   "nbconvert_exporter": "python",
   "pygments_lexer": "ipython3",
   "version": "3.8.10"
  }
 },
 "nbformat": 4,
 "nbformat_minor": 4
}
